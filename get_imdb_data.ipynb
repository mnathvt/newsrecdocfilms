{
 "cells": [
  {
   "cell_type": "code",
   "execution_count": 1,
   "metadata": {},
   "outputs": [],
   "source": [
    "import pandas as pd\n",
    "from bs4 import BeautifulSoup\n",
    "import requests\n",
    "import time\n",
    "import string\n",
    "from nltk import PorterStemmer\n",
    "from nltk.stem import WordNetLemmatizer\n",
    "from nltk.corpus import stopwords\n",
    "from gensim.models import KeyedVectors\n",
    "import numpy as np\n",
    "from scipy.spatial import distance\n",
    "import operator\n",
    "import nltk\n",
    "from nltk.tokenize import word_tokenize\n",
    "from nltk.tag import pos_tag\n",
    "import matplotlib.pyplot as plt\n",
    "from sklearn.metrics.pairwise import cosine_similarity, euclidean_distances"
   ]
  },
  {
   "cell_type": "code",
   "execution_count": 2,
   "metadata": {},
   "outputs": [],
   "source": [
    "#function to find English words\n",
    "\n",
    "def isEnglish(s):\n",
    "    try:\n",
    "        s.encode('ascii')\n",
    "    except UnicodeEncodeError:\n",
    "        return False\n",
    "    else:\n",
    "        return True"
   ]
  },
  {
   "cell_type": "code",
   "execution_count": 3,
   "metadata": {},
   "outputs": [
    {
     "name": "stderr",
     "output_type": "stream",
     "text": [
      "/anaconda3/lib/python3.7/site-packages/IPython/core/interactiveshell.py:3020: DtypeWarning: Columns (5) have mixed types. Specify dtype option on import or set low_memory=False.\n",
      "  interactivity=interactivity, compiler=compiler, result=result)\n"
     ]
    }
   ],
   "source": [
    "#load the complete list from imdb\n",
    "\n",
    "f = pd.read_table('title.basics.tsv')"
   ]
  },
  {
   "cell_type": "code",
   "execution_count": 4,
   "metadata": {},
   "outputs": [],
   "source": [
    "ftype = f['genres']\n",
    "dc = f.loc[ftype.str.contains('Documentary', na=False)]\n",
    "#f[f['genres'].str.startswith('Documentary')].index\n",
    "#dc = f.loc[f['genres'] == ftype]\n",
    "#f['startYear'][0]"
   ]
  },
  {
   "cell_type": "code",
   "execution_count": 5,
   "metadata": {},
   "outputs": [
    {
     "data": {
      "text/html": [
       "<div>\n",
       "<style scoped>\n",
       "    .dataframe tbody tr th:only-of-type {\n",
       "        vertical-align: middle;\n",
       "    }\n",
       "\n",
       "    .dataframe tbody tr th {\n",
       "        vertical-align: top;\n",
       "    }\n",
       "\n",
       "    .dataframe thead th {\n",
       "        text-align: right;\n",
       "    }\n",
       "</style>\n",
       "<table border=\"1\" class=\"dataframe\">\n",
       "  <thead>\n",
       "    <tr style=\"text-align: right;\">\n",
       "      <th></th>\n",
       "      <th>tconst</th>\n",
       "      <th>titleType</th>\n",
       "      <th>primaryTitle</th>\n",
       "      <th>originalTitle</th>\n",
       "      <th>isAdult</th>\n",
       "      <th>startYear</th>\n",
       "      <th>endYear</th>\n",
       "      <th>runtimeMinutes</th>\n",
       "      <th>genres</th>\n",
       "    </tr>\n",
       "  </thead>\n",
       "  <tbody>\n",
       "    <tr>\n",
       "      <th>5570458</th>\n",
       "      <td>tt9631176</td>\n",
       "      <td>movie</td>\n",
       "      <td>McGurks bar bombing - Loss of Innocence</td>\n",
       "      <td>McGurks bar bombing - Loss of Innocence</td>\n",
       "      <td>0</td>\n",
       "      <td>2012</td>\n",
       "      <td>\\N</td>\n",
       "      <td>54</td>\n",
       "      <td>Documentary</td>\n",
       "    </tr>\n",
       "    <tr>\n",
       "      <th>5570469</th>\n",
       "      <td>tt9631206</td>\n",
       "      <td>tvShort</td>\n",
       "      <td>Respect Can't Be Beat</td>\n",
       "      <td>Respect Can't Be Beat</td>\n",
       "      <td>0</td>\n",
       "      <td>1993</td>\n",
       "      <td>\\N</td>\n",
       "      <td>20</td>\n",
       "      <td>Documentary,Drama,Short</td>\n",
       "    </tr>\n",
       "    <tr>\n",
       "      <th>5570470</th>\n",
       "      <td>tt9631212</td>\n",
       "      <td>tvEpisode</td>\n",
       "      <td>Noël Coward Theatre</td>\n",
       "      <td>Noël Coward Theatre</td>\n",
       "      <td>0</td>\n",
       "      <td>2012</td>\n",
       "      <td>\\N</td>\n",
       "      <td>\\N</td>\n",
       "      <td>Documentary,History</td>\n",
       "    </tr>\n",
       "    <tr>\n",
       "      <th>5570497</th>\n",
       "      <td>tt9631304</td>\n",
       "      <td>movie</td>\n",
       "      <td>The Secret's Out</td>\n",
       "      <td>The Secret's Out</td>\n",
       "      <td>0</td>\n",
       "      <td>2013</td>\n",
       "      <td>\\N</td>\n",
       "      <td>51</td>\n",
       "      <td>Documentary</td>\n",
       "    </tr>\n",
       "    <tr>\n",
       "      <th>5570522</th>\n",
       "      <td>tt9631364</td>\n",
       "      <td>movie</td>\n",
       "      <td>Market Memories</td>\n",
       "      <td>Market Memories</td>\n",
       "      <td>0</td>\n",
       "      <td>2011</td>\n",
       "      <td>\\N</td>\n",
       "      <td>60</td>\n",
       "      <td>Documentary</td>\n",
       "    </tr>\n",
       "  </tbody>\n",
       "</table>\n",
       "</div>"
      ],
      "text/plain": [
       "            tconst  titleType                             primaryTitle  \\\n",
       "5570458  tt9631176      movie  McGurks bar bombing - Loss of Innocence   \n",
       "5570469  tt9631206    tvShort                    Respect Can't Be Beat   \n",
       "5570470  tt9631212  tvEpisode                      Noël Coward Theatre   \n",
       "5570497  tt9631304      movie                         The Secret's Out   \n",
       "5570522  tt9631364      movie                          Market Memories   \n",
       "\n",
       "                                   originalTitle  isAdult startYear endYear  \\\n",
       "5570458  McGurks bar bombing - Loss of Innocence        0      2012      \\N   \n",
       "5570469                    Respect Can't Be Beat        0      1993      \\N   \n",
       "5570470                      Noël Coward Theatre        0      2012      \\N   \n",
       "5570497                         The Secret's Out        0      2013      \\N   \n",
       "5570522                          Market Memories        0      2011      \\N   \n",
       "\n",
       "        runtimeMinutes                   genres  \n",
       "5570458             54              Documentary  \n",
       "5570469             20  Documentary,Drama,Short  \n",
       "5570470             \\N      Documentary,History  \n",
       "5570497             51              Documentary  \n",
       "5570522             60              Documentary  "
      ]
     },
     "execution_count": 5,
     "metadata": {},
     "output_type": "execute_result"
    }
   ],
   "source": [
    "dc.tail()"
   ]
  },
  {
   "cell_type": "code",
   "execution_count": 9,
   "metadata": {},
   "outputs": [
    {
     "name": "stdout",
     "output_type": "stream",
     "text": [
      "[]\n",
      "4993692\n"
     ]
    },
    {
     "data": {
      "text/html": [
       "<div>\n",
       "<style scoped>\n",
       "    .dataframe tbody tr th:only-of-type {\n",
       "        vertical-align: middle;\n",
       "    }\n",
       "\n",
       "    .dataframe tbody tr th {\n",
       "        vertical-align: top;\n",
       "    }\n",
       "\n",
       "    .dataframe thead th {\n",
       "        text-align: right;\n",
       "    }\n",
       "</style>\n",
       "<table border=\"1\" class=\"dataframe\">\n",
       "  <thead>\n",
       "    <tr style=\"text-align: right;\">\n",
       "      <th></th>\n",
       "      <th>tconst</th>\n",
       "      <th>primaryTitle</th>\n",
       "      <th>startYear</th>\n",
       "    </tr>\n",
       "  </thead>\n",
       "  <tbody>\n",
       "    <tr>\n",
       "      <th>0</th>\n",
       "      <td>tt0000001</td>\n",
       "      <td>Carmencita</td>\n",
       "      <td>1894.0</td>\n",
       "    </tr>\n",
       "    <tr>\n",
       "      <th>1</th>\n",
       "      <td>tt0000002</td>\n",
       "      <td>Le clown et ses chiens</td>\n",
       "      <td>1892.0</td>\n",
       "    </tr>\n",
       "    <tr>\n",
       "      <th>2</th>\n",
       "      <td>tt0000003</td>\n",
       "      <td>Pauvre Pierrot</td>\n",
       "      <td>1892.0</td>\n",
       "    </tr>\n",
       "    <tr>\n",
       "      <th>3</th>\n",
       "      <td>tt0000004</td>\n",
       "      <td>Un bon bock</td>\n",
       "      <td>1892.0</td>\n",
       "    </tr>\n",
       "    <tr>\n",
       "      <th>4</th>\n",
       "      <td>tt0000005</td>\n",
       "      <td>Blacksmith Scene</td>\n",
       "      <td>1893.0</td>\n",
       "    </tr>\n",
       "  </tbody>\n",
       "</table>\n",
       "</div>"
      ],
      "text/plain": [
       "      tconst            primaryTitle  startYear\n",
       "0  tt0000001              Carmencita     1894.0\n",
       "1  tt0000002  Le clown et ses chiens     1892.0\n",
       "2  tt0000003          Pauvre Pierrot     1892.0\n",
       "3  tt0000004             Un bon bock     1892.0\n",
       "4  tt0000005        Blacksmith Scene     1893.0"
      ]
     },
     "execution_count": 9,
     "metadata": {},
     "output_type": "execute_result"
    }
   ],
   "source": [
    "# get the dataframe containing only the documentary genre with titles in English\n",
    "dc = f[['tconst', 'primaryTitle', 'startYear']]\n",
    "\n",
    "dc = dc.reset_index(drop = True)\n",
    "#this resultant dataframe contains only the 3 columns - title, year and imdb ID\n",
    "\n",
    "\n",
    "idx = []\n",
    "\n",
    "for i in range(len(dc)): \n",
    "    if isEnglish(str(dc['primaryTitle'][i])) == True:\n",
    "        idx.append(i)\n",
    "        \n",
    "dc = dc.iloc[idx, :].reset_index(drop = True)\n",
    "    \n",
    "#print(len(dc[pd.to_numeric(dc['startYear'], errors='coerce').isnull()]))\n",
    "dc['startYear'] = pd.to_numeric(dc['startYear'], errors='coerce')\n",
    "#print(len(dc))\n",
    "\n",
    "if len(dc[dc['startYear'].isnull()].index.tolist()) != 0:\n",
    "    dc.dropna(inplace=True)\n",
    "print(dc[dc['startYear'].isnull()].index.tolist())\n",
    "print(len(dc))\n",
    "\n",
    "#df.loc[df[pd.to_numeric(df['startYear'], errors='coerce').isnull()]]\n",
    "dc.head()"
   ]
  },
  {
   "cell_type": "code",
   "execution_count": 10,
   "metadata": {},
   "outputs": [
    {
     "name": "stdout",
     "output_type": "stream",
     "text": [
      "4515970\n"
     ]
    },
    {
     "data": {
      "text/html": [
       "<div>\n",
       "<style scoped>\n",
       "    .dataframe tbody tr th:only-of-type {\n",
       "        vertical-align: middle;\n",
       "    }\n",
       "\n",
       "    .dataframe tbody tr th {\n",
       "        vertical-align: top;\n",
       "    }\n",
       "\n",
       "    .dataframe thead th {\n",
       "        text-align: right;\n",
       "    }\n",
       "</style>\n",
       "<table border=\"1\" class=\"dataframe\">\n",
       "  <thead>\n",
       "    <tr style=\"text-align: right;\">\n",
       "      <th></th>\n",
       "      <th>tconst</th>\n",
       "      <th>primaryTitle</th>\n",
       "      <th>startYear</th>\n",
       "      <th>description</th>\n",
       "    </tr>\n",
       "  </thead>\n",
       "  <tbody>\n",
       "    <tr>\n",
       "      <th>0</th>\n",
       "      <td>tt0015724</td>\n",
       "      <td>Dama de noche</td>\n",
       "      <td>1993</td>\n",
       "      <td>none</td>\n",
       "    </tr>\n",
       "    <tr>\n",
       "      <th>1</th>\n",
       "      <td>tt0023331</td>\n",
       "      <td>Pesn o geroyakh</td>\n",
       "      <td>1983</td>\n",
       "      <td>none</td>\n",
       "    </tr>\n",
       "    <tr>\n",
       "      <th>2</th>\n",
       "      <td>tt0035423</td>\n",
       "      <td>Kate &amp; Leopold</td>\n",
       "      <td>2001</td>\n",
       "      <td>none</td>\n",
       "    </tr>\n",
       "    <tr>\n",
       "      <th>3</th>\n",
       "      <td>tt0036606</td>\n",
       "      <td>Another Time, Another Place</td>\n",
       "      <td>1983</td>\n",
       "      <td>none</td>\n",
       "    </tr>\n",
       "    <tr>\n",
       "      <th>4</th>\n",
       "      <td>tt0039442</td>\n",
       "      <td>Habla, mudita</td>\n",
       "      <td>1973</td>\n",
       "      <td>none</td>\n",
       "    </tr>\n",
       "  </tbody>\n",
       "</table>\n",
       "</div>"
      ],
      "text/plain": [
       "      tconst                 primaryTitle  startYear description\n",
       "0  tt0015724                Dama de noche       1993        none\n",
       "1  tt0023331              Pesn o geroyakh       1983        none\n",
       "2  tt0035423               Kate & Leopold       2001        none\n",
       "3  tt0036606  Another Time, Another Place       1983        none\n",
       "4  tt0039442                Habla, mudita       1973        none"
      ]
     },
     "execution_count": 10,
     "metadata": {},
     "output_type": "execute_result"
    }
   ],
   "source": [
    "dc['startYear'] = dc['startYear'].astype(int)\n",
    "dc = dc[(dc['startYear'] >= 1970) & (dc['startYear'] < 2019)]\n",
    "dc = dc.reset_index(drop = True)\n",
    "print(len(dc))\n",
    "dc['description'] = 'none'\n",
    "dc.head()"
   ]
  },
  {
   "cell_type": "code",
   "execution_count": 11,
   "metadata": {},
   "outputs": [
    {
     "data": {
      "image/png": "[encoded data removed]",
      "text/plain": [
       "<Figure size 576x576 with 1 Axes>"
      ]
     },
     "metadata": {
      "needs_background": "light"
     },
     "output_type": "display_data"
    }
   ],
   "source": [
    "dfyr = dc[['tconst', 'startYear']].groupby('startYear')\n",
    "plt.figure(figsize=(8,8))\n",
    "plt.plot(dfyr.startYear.first(), dfyr.tconst.nunique(), '.-',\n",
    "         linewidth = 2.5, markersize = 10)\n",
    "\n",
    "axis_font = {'size':'25', 'color':'black'}\n",
    "axis_tick_font = {'size':'22', 'color':'black'}\n",
    "\n",
    "plt.xlabel('year', **axis_font)\n",
    "plt.ylabel('# of films', **axis_font)\n",
    "plt.xticks(**axis_tick_font)\n",
    "plt.yticks(**axis_tick_font)\n",
    "plt.savefig('film_freq.pdf')"
   ]
  },
  {
   "cell_type": "code",
   "execution_count": null,
   "metadata": {},
   "outputs": [],
   "source": []
  },
  {
   "cell_type": "code",
   "execution_count": null,
   "metadata": {
    "scrolled": false
   },
   "outputs": [],
   "source": [
    "# get the description of the documentaries from IMDB\n",
    "#start_time = time.time()\n",
    "\n",
    "for i in range(100000): #restricting to only 100k documentaries\n",
    "    j = dc['tconst'][i]\n",
    "    link = requests.get('https://www.imdb.com/title/'+ str(j) + '/plotsummary?ref_=tt_ov_pl')\n",
    "    soup = BeautifulSoup(link.text, 'html.parser')\n",
    "    try:\n",
    "        desc = soup.find('li', class_ = 'ipl-zebra-list__item').find('p').text\n",
    "        dc['description'][i] = desc\n",
    "    except:\n",
    "        pass\n",
    "\n",
    "#print(time.time() - start_time)"
   ]
  },
  {
   "cell_type": "code",
   "execution_count": null,
   "metadata": {},
   "outputs": [],
   "source": [
    "# save the dataframe, so that I don't lose the information collected\n",
    "#dc.to_pickle('imdb_desc_all.pkl', index = False, header = True)"
   ]
  },
  {
   "cell_type": "code",
   "execution_count": null,
   "metadata": {},
   "outputs": [],
   "source": [
    "dc.drop(dc[dc['description'].str.startswith('none')].index, inplace = True)\n",
    "dc.drop(dc[dc['description'].str.startswith('It looks')].index, inplace = True)\n",
    "dc.drop(dc[dc['description'].str.startswith('httpwww')].index, inplace = True)\n",
    "dc = dc.reset_index(drop = True)"
   ]
  },
  {
   "cell_type": "code",
   "execution_count": null,
   "metadata": {},
   "outputs": [],
   "source": [
    "# save the dataframe, so that I don't lose the information collected\n",
    "print(len(dc))\n",
    "#dc.to_pickle('imdb_desc_all.pkl', index = False, header = True)"
   ]
  },
  {
   "cell_type": "code",
   "execution_count": null,
   "metadata": {},
   "outputs": [],
   "source": [
    "# add urls (just in case)\n",
    "\n",
    "#dc['links'] = 'none'\n",
    "#for i in range(len(dc)):\n",
    "#    j = dc['tconst'][i]\n",
    "#    dc['links'][i] = 'https://www.imdb.com/title/' + str(j)\n",
    "#dc.tail()"
   ]
  },
  {
   "cell_type": "code",
   "execution_count": 17,
   "metadata": {},
   "outputs": [],
   "source": [
    "def clean_data(string_text):\n",
    "    string_text = string_text.lower()\n",
    "    string_text = string_text.strip()\n",
    "    string_text = string_text.translate(string_text.maketrans(' ', ' ', string.punctuation))\n",
    "    string_text = string_text.replace('\\n', ' ')\n",
    "    string_text = string_text.replace('\\t', ' ')\n",
    "    return string_text"
   ]
  },
  {
   "cell_type": "code",
   "execution_count": null,
   "metadata": {},
   "outputs": [],
   "source": [
    "for i in range(len(dc)):\n",
    "    dc['description'][i] = clean_data(dc['description'][i])\n",
    "\n",
    "# save the dataframe, so that I don't lose the information collected\n",
    "#dc_to.pickle('imdb_desc.pkl', header = True, index = False)"
   ]
  },
  {
   "cell_type": "code",
   "execution_count": 18,
   "metadata": {},
   "outputs": [],
   "source": [
    "def preprocess(sent):\n",
    "    sent = nltk.word_tokenize(sent)\n",
    "    sent = nltk.pos_tag(sent)\n",
    "    return sent"
   ]
  },
  {
   "cell_type": "code",
   "execution_count": null,
   "metadata": {},
   "outputs": [],
   "source": [
    "dc['desc_words'] = [[]] * dc.shape[0]"
   ]
  },
  {
   "cell_type": "code",
   "execution_count": null,
   "metadata": {},
   "outputs": [],
   "source": [
    "for i in range(len(dc)):\n",
    "    sent = preprocess(dc['description'][i])\n",
    "    dc['desc_words'][i] = list(set([x[0] for x in sent if x[1].startswith('NN')]))"
   ]
  },
  {
   "cell_type": "code",
   "execution_count": null,
   "metadata": {},
   "outputs": [],
   "source": [
    "dc.head()"
   ]
  },
  {
   "cell_type": "code",
   "execution_count": 19,
   "metadata": {},
   "outputs": [],
   "source": [
    "stwords = stopwords.words('english')\n",
    "stwords.extend(['film', 'director', 'production', 'documentary', 'movie'])\n",
    "#stwords[-5:]"
   ]
  },
  {
   "cell_type": "code",
   "execution_count": 20,
   "metadata": {},
   "outputs": [],
   "source": [
    "def rem_words(string_text):\n",
    "    sentence = []\n",
    "    for word in string_text:\n",
    "        if word.isalpha():\n",
    "            if word not in stwords:    \n",
    "                word = WordNetLemmatizer().lemmatize(word)\n",
    "                sentence.append(word)\n",
    "    return sentence"
   ]
  },
  {
   "cell_type": "code",
   "execution_count": null,
   "metadata": {},
   "outputs": [],
   "source": [
    "dc['words'] = [[]] * dc.shape[0]\n",
    "\n",
    "for i in range(len(dc)):\n",
    "    dc['words'][i] = list(set(rem_words(dc['desc_words'][i])))"
   ]
  },
  {
   "cell_type": "code",
   "execution_count": null,
   "metadata": {},
   "outputs": [],
   "source": [
    "dc['w2v'] = [[]] * dc.shape[0]"
   ]
  },
  {
   "cell_type": "code",
   "execution_count": null,
   "metadata": {},
   "outputs": [],
   "source": [
    "for i in range(len(dc)):\n",
    "    try:\n",
    "        dc['w2v'][i] = document_vector(model, ' '.join(dc['words'][i]))\n",
    "    except:\n",
    "        pass"
   ]
  },
  {
   "cell_type": "code",
   "execution_count": 23,
   "metadata": {},
   "outputs": [],
   "source": [
    "model = KeyedVectors.load_word2vec_format('GoogleNews-vectors-negative300.bin',\n",
    "                   binary=True, limit = 50000)"
   ]
  },
  {
   "cell_type": "code",
   "execution_count": 24,
   "metadata": {},
   "outputs": [],
   "source": [
    "def document_vector(word2vec_model, doc):\n",
    "    # remove out-of-vocabulary words\n",
    "    doc = [word for word in doc if word in word2vec_model.vocab]\n",
    "    return np.mean(word2vec_model[doc], axis=0)"
   ]
  },
  {
   "cell_type": "code",
   "execution_count": 25,
   "metadata": {},
   "outputs": [],
   "source": [
    "link = requests.get('https://www.npr.org/sections/goatsandsoda/2019/02/05/691578203/report-global-warming-could-melt-at-least-a-third-of-himalayan-glaciers')\n",
    "soup = BeautifulSoup(link.text, 'lxml')\n"
   ]
  },
  {
   "cell_type": "code",
   "execution_count": 26,
   "metadata": {},
   "outputs": [
    {
     "data": {
      "text/plain": [
       "'himalayas glaciers climate change '"
      ]
     },
     "execution_count": 26,
     "metadata": {},
     "output_type": "execute_result"
    }
   ],
   "source": [
    "keytags = ''\n",
    "try:\n",
    "    page_tags = soup.findAll('div', class_ = 'tags')[0].findAll('li')\n",
    "    for i in range(len(page_tags)):\n",
    "        keytags += page_tags[i].text.lower() + ' '\n",
    "except:\n",
    "    keytags = soup.find('title').text.replace('NPR', '').split(':')[0] #add the title\n",
    "keytags"
   ]
  },
  {
   "cell_type": "code",
   "execution_count": 27,
   "metadata": {},
   "outputs": [],
   "source": [
    "newsc_text = ''\n",
    "\n",
    "for i in range(3, len(soup.findAll('p')) - 2):\n",
    "        newsc_text += soup.findAll('p')[i].text\n",
    "#print(newsc_text)"
   ]
  },
  {
   "cell_type": "code",
   "execution_count": 28,
   "metadata": {},
   "outputs": [],
   "source": [
    "newsc_text = clean_data(newsc_text)\n",
    "sent = preprocess(newsc_text)\n",
    "#print(sent)\n",
    "newsc_data = list(set([x[0] for x in sent if x[1].startswith('NN')]))\n",
    "#newsc_data.extend(list(set([x[0] for x in sent if x[1].startswith('JJ')])))\n",
    "newsc_data = rem_words(newsc_data)\n",
    "newsc_vec = document_vector(model, ' '.join(newsc_data))\n",
    "#newsc_data"
   ]
  },
  {
   "cell_type": "code",
   "execution_count": 29,
   "metadata": {},
   "outputs": [
    {
     "name": "stdout",
     "output_type": "stream",
     "text": [
      "['himalayas', 'glaciers', 'change']\n"
     ]
    }
   ],
   "source": [
    "keytags = clean_data(keytags)\n",
    "sent = preprocess(keytags)\n",
    "#print(sent)\n",
    "keytags_data = list(set([x[0] for x in sent if x[1].startswith('NN')]))\n",
    "#keytags_data.extend(list(set([x[0] for x in sent if x[1].startswith('JJ')])))\n",
    "print(keytags_data)\n",
    "keytags_vec = document_vector(model, ' '.join(keytags_data))"
   ]
  },
  {
   "cell_type": "code",
   "execution_count": 31,
   "metadata": {},
   "outputs": [],
   "source": [
    "cossim = {}\n",
    "for idx in range(len(dc)):\n",
    "    cossim[idx] = cosine_similarity(newsc_vec.reshape(1, -1), dc['w2v'][idx].reshape(1, -1))\n",
    "    #cossim[idx] = cosine_similarity(news_vec.reshape(1, -1), dc['w2v'][idx].reshape(1, -1))\n",
    "simdoc = sorted(cossim.items(), key = operator.itemgetter(1))"
   ]
  },
  {
   "cell_type": "code",
   "execution_count": 35,
   "metadata": {},
   "outputs": [],
   "source": [
    "results, key_words, scores = [], [], []\n",
    "\n",
    "for i in range(len(simdoc)):\n",
    "    results.append(dc['primaryTitle'][int(simdoc[i][0])])\n",
    "    key_words.append(dc['desc_words'][int(simdoc[i][0])][:5])\n",
    "\n",
    "dn = pd.DataFrame({'title': results, 'words': key_words})"
   ]
  },
  {
   "cell_type": "code",
   "execution_count": 36,
   "metadata": {},
   "outputs": [],
   "source": [
    "dn"
   ]
  },
  {
   "cell_type": "code",
   "execution_count": null,
   "metadata": {},
   "outputs": [],
   "source": []
  }
 ],
 "metadata": {
  "kernelspec": {
   "display_name": "Python 3",
   "language": "python",
   "name": "python3"
  },
  "language_info": {
   "codemirror_mode": {
    "name": "ipython",
    "version": 3
   },
   "file_extension": ".py",
   "mimetype": "text/x-python",
   "name": "python",
   "nbconvert_exporter": "python",
   "pygments_lexer": "ipython3",
   "version": "3.7.1"
  }
 },
 "nbformat": 4,
 "nbformat_minor": 2
}
