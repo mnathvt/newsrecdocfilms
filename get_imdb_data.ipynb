{
 "cells": [
  {
   "cell_type": "code",
   "execution_count": 3,
   "metadata": {},
   "outputs": [],
   "source": [
    "import pandas as pd\n",
    "from bs4 import BeautifulSoup\n",
    "import requests\n",
    "import time\n",
    "import string\n",
    "from nltk.stem.wordnet import WordNetLemmatizer\n",
    "from nltk.corpus import stopwords\n",
    "from gensim.models import KeyedVectors\n",
    "\n",
    "lem = WordNetLemmatizer()"
   ]
  },
  {
   "cell_type": "code",
   "execution_count": 100,
   "metadata": {},
   "outputs": [],
   "source": [
    "#function to find English words\n",
    "\n",
    "def isEnglish(s):\n",
    "    try:\n",
    "        s.encode('ascii')\n",
    "    except UnicodeEncodeError:\n",
    "        return False\n",
    "    else:\n",
    "        return True"
   ]
  },
  {
   "cell_type": "code",
   "execution_count": 3,
   "metadata": {},
   "outputs": [
    {
     "name": "stderr",
     "output_type": "stream",
     "text": [
      "/anaconda3/lib/python3.7/site-packages/IPython/core/interactiveshell.py:3020: DtypeWarning: Columns (5) have mixed types. Specify dtype option on import or set low_memory=False.\n",
      "  interactivity=interactivity, compiler=compiler, result=result)\n"
     ]
    }
   ],
   "source": [
    "#load the complete list from imdb\n",
    "\n",
    "f = pd.read_table('title.basics.tsv')"
   ]
  },
  {
   "cell_type": "code",
   "execution_count": 4,
   "metadata": {},
   "outputs": [
    {
     "data": {
      "text/plain": [
       "'Documentary,Short'"
      ]
     },
     "execution_count": 4,
     "metadata": {},
     "output_type": "execute_result"
    }
   ],
   "source": [
    "ftype = f['genres'][0]\n",
    "ftype\n",
    "#f['startYear'][0]"
   ]
  },
  {
   "cell_type": "code",
   "execution_count": 45,
   "metadata": {},
   "outputs": [
    {
     "name": "stdout",
     "output_type": "stream",
     "text": [
      "290\n",
      "86017\n",
      "[]\n",
      "85727\n"
     ]
    },
    {
     "data": {
      "text/html": [
       "<div>\n",
       "<style scoped>\n",
       "    .dataframe tbody tr th:only-of-type {\n",
       "        vertical-align: middle;\n",
       "    }\n",
       "\n",
       "    .dataframe tbody tr th {\n",
       "        vertical-align: top;\n",
       "    }\n",
       "\n",
       "    .dataframe thead th {\n",
       "        text-align: right;\n",
       "    }\n",
       "</style>\n",
       "<table border=\"1\" class=\"dataframe\">\n",
       "  <thead>\n",
       "    <tr style=\"text-align: right;\">\n",
       "      <th></th>\n",
       "      <th>tconst</th>\n",
       "      <th>primaryTitle</th>\n",
       "      <th>startYear</th>\n",
       "    </tr>\n",
       "  </thead>\n",
       "  <tbody>\n",
       "    <tr>\n",
       "      <th>0</th>\n",
       "      <td>tt0000001</td>\n",
       "      <td>Carmencita</td>\n",
       "      <td>1894.0</td>\n",
       "    </tr>\n",
       "    <tr>\n",
       "      <th>1</th>\n",
       "      <td>tt0000008</td>\n",
       "      <td>Edison Kinetoscopic Record of a Sneeze</td>\n",
       "      <td>1894.0</td>\n",
       "    </tr>\n",
       "    <tr>\n",
       "      <th>2</th>\n",
       "      <td>tt0000010</td>\n",
       "      <td>Exiting the Factory</td>\n",
       "      <td>1895.0</td>\n",
       "    </tr>\n",
       "    <tr>\n",
       "      <th>3</th>\n",
       "      <td>tt0000011</td>\n",
       "      <td>Akrobatisches Potpourri</td>\n",
       "      <td>1895.0</td>\n",
       "    </tr>\n",
       "    <tr>\n",
       "      <th>4</th>\n",
       "      <td>tt0000012</td>\n",
       "      <td>The Arrival of a Train</td>\n",
       "      <td>1896.0</td>\n",
       "    </tr>\n",
       "  </tbody>\n",
       "</table>\n",
       "</div>"
      ],
      "text/plain": [
       "      tconst                            primaryTitle  startYear\n",
       "0  tt0000001                              Carmencita     1894.0\n",
       "1  tt0000008  Edison Kinetoscopic Record of a Sneeze     1894.0\n",
       "2  tt0000010                     Exiting the Factory     1895.0\n",
       "3  tt0000011                 Akrobatisches Potpourri     1895.0\n",
       "4  tt0000012                  The Arrival of a Train     1896.0"
      ]
     },
     "execution_count": 45,
     "metadata": {},
     "output_type": "execute_result"
    }
   ],
   "source": [
    "# get the dataframe containing only the documentary genre with titles in English\n",
    "\n",
    "df = f.loc[f['genres'] == ftype]\n",
    "df = df[['tconst', 'primaryTitle', 'startYear']]\n",
    "\n",
    "df = df.reset_index(drop = True)\n",
    "#this resultant dataframe contains only the 3 columns - title, year and imdb ID\n",
    "\n",
    "\n",
    "idx = []\n",
    "\n",
    "for i in range(len(df)):\n",
    "    if isEnglish(df['primaryTitle'][i]) == True:\n",
    "        idx.append(i)\n",
    "        \n",
    "df = df.iloc[idx, :].reset_index(drop = True)\n",
    "    \n",
    "print(len(df[pd.to_numeric(df['startYear'], errors='coerce').isnull()]))\n",
    "df['startYear'] = pd.to_numeric(df['startYear'], errors='coerce')\n",
    "print(len(df))\n",
    "\n",
    "if len(df[df['startYear'].isnull()].index.tolist()) != 0:\n",
    "    df.dropna(inplace=True)\n",
    "print(df[df['startYear'].isnull()].index.tolist())\n",
    "print(len(df))\n",
    "\n",
    "#df.loc[df[pd.to_numeric(df['startYear'], errors='coerce').isnull()]]\n",
    "df.head()"
   ]
  },
  {
   "cell_type": "code",
   "execution_count": 46,
   "metadata": {},
   "outputs": [
    {
     "name": "stdout",
     "output_type": "stream",
     "text": [
      "53365\n"
     ]
    },
    {
     "data": {
      "text/html": [
       "<div>\n",
       "<style scoped>\n",
       "    .dataframe tbody tr th:only-of-type {\n",
       "        vertical-align: middle;\n",
       "    }\n",
       "\n",
       "    .dataframe tbody tr th {\n",
       "        vertical-align: top;\n",
       "    }\n",
       "\n",
       "    .dataframe thead th {\n",
       "        text-align: right;\n",
       "    }\n",
       "</style>\n",
       "<table border=\"1\" class=\"dataframe\">\n",
       "  <thead>\n",
       "    <tr style=\"text-align: right;\">\n",
       "      <th></th>\n",
       "      <th>tconst</th>\n",
       "      <th>primaryTitle</th>\n",
       "      <th>startYear</th>\n",
       "      <th>description</th>\n",
       "    </tr>\n",
       "  </thead>\n",
       "  <tbody>\n",
       "    <tr>\n",
       "      <th>0</th>\n",
       "      <td>tt0065508</td>\n",
       "      <td>Bylem zolnierzem</td>\n",
       "      <td>1971.0</td>\n",
       "      <td>None</td>\n",
       "    </tr>\n",
       "    <tr>\n",
       "      <th>1</th>\n",
       "      <td>tt0065779</td>\n",
       "      <td>The Gifts</td>\n",
       "      <td>1970.0</td>\n",
       "      <td>None</td>\n",
       "    </tr>\n",
       "    <tr>\n",
       "      <th>2</th>\n",
       "      <td>tt0065998</td>\n",
       "      <td>A Long Way from Nowhere</td>\n",
       "      <td>1970.0</td>\n",
       "      <td>None</td>\n",
       "    </tr>\n",
       "    <tr>\n",
       "      <th>3</th>\n",
       "      <td>tt0066100</td>\n",
       "      <td>On vous parle de Paris: Maspero. Les mots ont ...</td>\n",
       "      <td>1970.0</td>\n",
       "      <td>None</td>\n",
       "    </tr>\n",
       "    <tr>\n",
       "      <th>4</th>\n",
       "      <td>tt0066149</td>\n",
       "      <td>Japan and the Japanese</td>\n",
       "      <td>1970.0</td>\n",
       "      <td>None</td>\n",
       "    </tr>\n",
       "  </tbody>\n",
       "</table>\n",
       "</div>"
      ],
      "text/plain": [
       "      tconst                                       primaryTitle  startYear  \\\n",
       "0  tt0065508                                   Bylem zolnierzem     1971.0   \n",
       "1  tt0065779                                          The Gifts     1970.0   \n",
       "2  tt0065998                            A Long Way from Nowhere     1970.0   \n",
       "3  tt0066100  On vous parle de Paris: Maspero. Les mots ont ...     1970.0   \n",
       "4  tt0066149                             Japan and the Japanese     1970.0   \n",
       "\n",
       "  description  \n",
       "0        None  \n",
       "1        None  \n",
       "2        None  \n",
       "3        None  \n",
       "4        None  "
      ]
     },
     "execution_count": 46,
     "metadata": {},
     "output_type": "execute_result"
    }
   ],
   "source": [
    "df = df[df['startYear'] >= 1970]\n",
    "df = df.reset_index(drop = True)\n",
    "print(len(df))\n",
    "df['description'] = 'None'\n",
    "df.head()"
   ]
  },
  {
   "cell_type": "code",
   "execution_count": 40,
   "metadata": {},
   "outputs": [],
   "source": [
    "d = df.tail(100)\n",
    "d = d.reset_index(drop = True)"
   ]
  },
  {
   "cell_type": "code",
   "execution_count": 47,
   "metadata": {},
   "outputs": [
    {
     "name": "stderr",
     "output_type": "stream",
     "text": [
      "/anaconda3/lib/python3.7/site-packages/ipykernel_launcher.py:10: SettingWithCopyWarning: \n",
      "A value is trying to be set on a copy of a slice from a DataFrame\n",
      "\n",
      "See the caveats in the documentation: http://pandas.pydata.org/pandas-docs/stable/indexing.html#indexing-view-versus-copy\n",
      "  # Remove the CWD from sys.path while we load stuff.\n"
     ]
    },
    {
     "name": "stdout",
     "output_type": "stream",
     "text": [
      "27312.92974114418\n"
     ]
    }
   ],
   "source": [
    "# get the description of the documentaries from IMDB\n",
    "start_time = time.time()\n",
    "\n",
    "for i in range(len(df)):\n",
    "    j = df['tconst'][i]\n",
    "    link = requests.get('https://www.imdb.com/title/'+ str(j) + '/plotsummary?ref_=tt_ov_pl')\n",
    "    soup = BeautifulSoup(link.text, 'html.parser')\n",
    "    try:\n",
    "        desc = soup.find('li', class_ = 'ipl-zebra-list__item').find('p').text\n",
    "        df['description'][i] = desc\n",
    "    except:\n",
    "        pass\n",
    "\n",
    "print(time.time() - start_time)"
   ]
  },
  {
   "cell_type": "code",
   "execution_count": 48,
   "metadata": {},
   "outputs": [
    {
     "data": {
      "text/html": [
       "<div>\n",
       "<style scoped>\n",
       "    .dataframe tbody tr th:only-of-type {\n",
       "        vertical-align: middle;\n",
       "    }\n",
       "\n",
       "    .dataframe tbody tr th {\n",
       "        vertical-align: top;\n",
       "    }\n",
       "\n",
       "    .dataframe thead th {\n",
       "        text-align: right;\n",
       "    }\n",
       "</style>\n",
       "<table border=\"1\" class=\"dataframe\">\n",
       "  <thead>\n",
       "    <tr style=\"text-align: right;\">\n",
       "      <th></th>\n",
       "      <th>tconst</th>\n",
       "      <th>primaryTitle</th>\n",
       "      <th>startYear</th>\n",
       "      <th>description</th>\n",
       "    </tr>\n",
       "  </thead>\n",
       "  <tbody>\n",
       "    <tr>\n",
       "      <th>53360</th>\n",
       "      <td>tt9630474</td>\n",
       "      <td>Papirnati zivot</td>\n",
       "      <td>2017.0</td>\n",
       "      <td>It looks like we don't have any Plot Summaries...</td>\n",
       "    </tr>\n",
       "    <tr>\n",
       "      <th>53361</th>\n",
       "      <td>tt9630618</td>\n",
       "      <td>Linguagem</td>\n",
       "      <td>2014.0</td>\n",
       "      <td>It looks like we don't have any Plot Summaries...</td>\n",
       "    </tr>\n",
       "    <tr>\n",
       "      <th>53362</th>\n",
       "      <td>tt9630646</td>\n",
       "      <td>Carta a uma Jovem Cineasta</td>\n",
       "      <td>2014.0</td>\n",
       "      <td>It looks like we don't have any Plot Summaries...</td>\n",
       "    </tr>\n",
       "    <tr>\n",
       "      <th>53363</th>\n",
       "      <td>tt9630964</td>\n",
       "      <td>Ruta 60</td>\n",
       "      <td>2018.0</td>\n",
       "      <td>It looks like we don't have any Plot Summaries...</td>\n",
       "    </tr>\n",
       "    <tr>\n",
       "      <th>53364</th>\n",
       "      <td>tt9631114</td>\n",
       "      <td>Sweet Memories</td>\n",
       "      <td>2012.0</td>\n",
       "      <td>Mullan Mews and Sydenham Court are bespoke sup...</td>\n",
       "    </tr>\n",
       "  </tbody>\n",
       "</table>\n",
       "</div>"
      ],
      "text/plain": [
       "          tconst                primaryTitle  startYear  \\\n",
       "53360  tt9630474             Papirnati zivot     2017.0   \n",
       "53361  tt9630618                   Linguagem     2014.0   \n",
       "53362  tt9630646  Carta a uma Jovem Cineasta     2014.0   \n",
       "53363  tt9630964                     Ruta 60     2018.0   \n",
       "53364  tt9631114              Sweet Memories     2012.0   \n",
       "\n",
       "                                             description  \n",
       "53360  It looks like we don't have any Plot Summaries...  \n",
       "53361  It looks like we don't have any Plot Summaries...  \n",
       "53362  It looks like we don't have any Plot Summaries...  \n",
       "53363  It looks like we don't have any Plot Summaries...  \n",
       "53364  Mullan Mews and Sydenham Court are bespoke sup...  "
      ]
     },
     "execution_count": 48,
     "metadata": {},
     "output_type": "execute_result"
    }
   ],
   "source": [
    "df.tail()"
   ]
  },
  {
   "cell_type": "code",
   "execution_count": 49,
   "metadata": {},
   "outputs": [],
   "source": [
    "df.to_csv('imdb_desc_all.csv', index = False, header = True)"
   ]
  },
  {
   "cell_type": "code",
   "execution_count": 50,
   "metadata": {},
   "outputs": [],
   "source": [
    "dlist = df.copy()"
   ]
  },
  {
   "cell_type": "code",
   "execution_count": 53,
   "metadata": {},
   "outputs": [
    {
     "data": {
      "text/plain": [
       "53365"
      ]
     },
     "execution_count": 53,
     "metadata": {},
     "output_type": "execute_result"
    }
   ],
   "source": [
    "len(dlist)"
   ]
  },
  {
   "cell_type": "code",
   "execution_count": 54,
   "metadata": {},
   "outputs": [],
   "source": [
    "dlist.drop(dlist[dlist['description'].str.startswith('It looks')].index, inplace = True)"
   ]
  },
  {
   "cell_type": "code",
   "execution_count": 14,
   "metadata": {},
   "outputs": [],
   "source": [
    "dlist = dlist.reset_index(drop = True)"
   ]
  },
  {
   "cell_type": "code",
   "execution_count": 59,
   "metadata": {},
   "outputs": [
    {
     "name": "stdout",
     "output_type": "stream",
     "text": [
      "23107\n"
     ]
    }
   ],
   "source": [
    "print(len(dlist))\n",
    "dlist = dlist.reset_index(drop = True)\n",
    "dlist['startYear'] = dlist['startYear'].astype(int)\n",
    "dlist.to_csv('imdb_desc.csv', index = False, header = True)"
   ]
  },
  {
   "cell_type": "code",
   "execution_count": 68,
   "metadata": {},
   "outputs": [],
   "source": [
    "# clean the text in the description column of the dataframe\n",
    "\n",
    "def clean_df_data(d):\n",
    "    d = d.str.lower()\n",
    "    d = d.str.replace('\\n', ' ')\n",
    "    d = d.str.replace('\\t', ' ')\n",
    "    for i in range(len(d)):\n",
    "        d[i] = d[i].translate(d[i].maketrans(' ', ' ', string.punctuation))\n",
    "    return d"
   ]
  },
  {
   "cell_type": "code",
   "execution_count": 69,
   "metadata": {},
   "outputs": [
    {
     "data": {
      "text/html": [
       "<div>\n",
       "<style scoped>\n",
       "    .dataframe tbody tr th:only-of-type {\n",
       "        vertical-align: middle;\n",
       "    }\n",
       "\n",
       "    .dataframe tbody tr th {\n",
       "        vertical-align: top;\n",
       "    }\n",
       "\n",
       "    .dataframe thead th {\n",
       "        text-align: right;\n",
       "    }\n",
       "</style>\n",
       "<table border=\"1\" class=\"dataframe\">\n",
       "  <thead>\n",
       "    <tr style=\"text-align: right;\">\n",
       "      <th></th>\n",
       "      <th>tconst</th>\n",
       "      <th>primaryTitle</th>\n",
       "      <th>startYear</th>\n",
       "      <th>description</th>\n",
       "    </tr>\n",
       "  </thead>\n",
       "  <tbody>\n",
       "    <tr>\n",
       "      <th>0</th>\n",
       "      <td>tt0065508</td>\n",
       "      <td>Bylem zolnierzem</td>\n",
       "      <td>1971</td>\n",
       "      <td>Blind war veterans tell stories about loss, wa...</td>\n",
       "    </tr>\n",
       "    <tr>\n",
       "      <th>1</th>\n",
       "      <td>tt0065779</td>\n",
       "      <td>The Gifts</td>\n",
       "      <td>1970</td>\n",
       "      <td>Water pollution in the United States: an early...</td>\n",
       "    </tr>\n",
       "    <tr>\n",
       "      <th>2</th>\n",
       "      <td>tt0065998</td>\n",
       "      <td>A Long Way from Nowhere</td>\n",
       "      <td>1970</td>\n",
       "      <td>The film traces the progress of four autistic ...</td>\n",
       "    </tr>\n",
       "    <tr>\n",
       "      <th>3</th>\n",
       "      <td>tt0066748</td>\n",
       "      <td>Adventures in Perception</td>\n",
       "      <td>1972</td>\n",
       "      <td>An introduction to the work of graphic artist ...</td>\n",
       "    </tr>\n",
       "    <tr>\n",
       "      <th>4</th>\n",
       "      <td>tt0066786</td>\n",
       "      <td>Art Is...</td>\n",
       "      <td>1972</td>\n",
       "      <td>\"What is art?\" The film offers some new answer...</td>\n",
       "    </tr>\n",
       "  </tbody>\n",
       "</table>\n",
       "</div>"
      ],
      "text/plain": [
       "      tconst              primaryTitle  startYear  \\\n",
       "0  tt0065508          Bylem zolnierzem       1971   \n",
       "1  tt0065779                 The Gifts       1970   \n",
       "2  tt0065998   A Long Way from Nowhere       1970   \n",
       "3  tt0066748  Adventures in Perception       1972   \n",
       "4  tt0066786                 Art Is...       1972   \n",
       "\n",
       "                                         description  \n",
       "0  Blind war veterans tell stories about loss, wa...  \n",
       "1  Water pollution in the United States: an early...  \n",
       "2  The film traces the progress of four autistic ...  \n",
       "3  An introduction to the work of graphic artist ...  \n",
       "4  \"What is art?\" The film offers some new answer...  "
      ]
     },
     "execution_count": 69,
     "metadata": {},
     "output_type": "execute_result"
    }
   ],
   "source": [
    "clean_df_data(dlist['description'])\n",
    "dlist.head()"
   ]
  },
  {
   "cell_type": "code",
   "execution_count": 49,
   "metadata": {},
   "outputs": [],
   "source": [
    "def clean_data(string_text):\n",
    "    string_text = string_text.lower()\n",
    "    string_text = string_text.strip()\n",
    "    string_text = string_text.translate(string_text.maketrans(' ',\n",
    "                        ' ', string.punctuation))\n",
    "    string_text = string_text.replace('\\n', ' ')\n",
    "    string_text = string_text.replace('\\t', ' ')\n",
    "    return string_text"
   ]
  },
  {
   "cell_type": "code",
   "execution_count": 81,
   "metadata": {},
   "outputs": [
    {
     "name": "stderr",
     "output_type": "stream",
     "text": [
      "/anaconda3/lib/python3.7/site-packages/ipykernel_launcher.py:2: SettingWithCopyWarning: \n",
      "A value is trying to be set on a copy of a slice from a DataFrame\n",
      "\n",
      "See the caveats in the documentation: http://pandas.pydata.org/pandas-docs/stable/indexing.html#indexing-view-versus-copy\n",
      "  \n"
     ]
    },
    {
     "data": {
      "text/html": [
       "<div>\n",
       "<style scoped>\n",
       "    .dataframe tbody tr th:only-of-type {\n",
       "        vertical-align: middle;\n",
       "    }\n",
       "\n",
       "    .dataframe tbody tr th {\n",
       "        vertical-align: top;\n",
       "    }\n",
       "\n",
       "    .dataframe thead th {\n",
       "        text-align: right;\n",
       "    }\n",
       "</style>\n",
       "<table border=\"1\" class=\"dataframe\">\n",
       "  <thead>\n",
       "    <tr style=\"text-align: right;\">\n",
       "      <th></th>\n",
       "      <th>tconst</th>\n",
       "      <th>primaryTitle</th>\n",
       "      <th>startYear</th>\n",
       "      <th>description</th>\n",
       "      <th>desc_words</th>\n",
       "    </tr>\n",
       "  </thead>\n",
       "  <tbody>\n",
       "    <tr>\n",
       "      <th>0</th>\n",
       "      <td>tt0065508</td>\n",
       "      <td>Bylem zolnierzem</td>\n",
       "      <td>1971</td>\n",
       "      <td>blind war veterans tell stories about loss war...</td>\n",
       "      <td>Bln wr veern ell re bu l, wr, wll  lve n her re.</td>\n",
       "    </tr>\n",
       "    <tr>\n",
       "      <th>1</th>\n",
       "      <td>tt0065779</td>\n",
       "      <td>The Gifts</td>\n",
       "      <td>1970</td>\n",
       "      <td>water pollution in the united states an early ...</td>\n",
       "      <td>Wer pllun n he Une Se: n erl wrnng pruce fr he...</td>\n",
       "    </tr>\n",
       "    <tr>\n",
       "      <th>2</th>\n",
       "      <td>tt0065998</td>\n",
       "      <td>A Long Way from Nowhere</td>\n",
       "      <td>1970</td>\n",
       "      <td>the film traces the progress of four autistic ...</td>\n",
       "      <td>The fl rce he prgre f fur uc chlren ver ne er ...</td>\n",
       "    </tr>\n",
       "    <tr>\n",
       "      <th>3</th>\n",
       "      <td>tt0066748</td>\n",
       "      <td>Adventures in Perception</td>\n",
       "      <td>1972</td>\n",
       "      <td>an introduction to the work of graphic artist ...</td>\n",
       "      <td>An nrucn  he wrk f grphc r M.C. Echer.</td>\n",
       "    </tr>\n",
       "    <tr>\n",
       "      <th>4</th>\n",
       "      <td>tt0066786</td>\n",
       "      <td>Art Is...</td>\n",
       "      <td>1972</td>\n",
       "      <td>what is art the film offers some new answers t...</td>\n",
       "      <td>\"Wh  r?\" The fl ffer e new nwer  he ge l quen.</td>\n",
       "    </tr>\n",
       "  </tbody>\n",
       "</table>\n",
       "</div>"
      ],
      "text/plain": [
       "      tconst              primaryTitle  startYear  \\\n",
       "0  tt0065508          Bylem zolnierzem       1971   \n",
       "1  tt0065779                 The Gifts       1970   \n",
       "2  tt0065998   A Long Way from Nowhere       1970   \n",
       "3  tt0066748  Adventures in Perception       1972   \n",
       "4  tt0066786                 Art Is...       1972   \n",
       "\n",
       "                                         description  \\\n",
       "0  blind war veterans tell stories about loss war...   \n",
       "1  water pollution in the united states an early ...   \n",
       "2  the film traces the progress of four autistic ...   \n",
       "3  an introduction to the work of graphic artist ...   \n",
       "4  what is art the film offers some new answers t...   \n",
       "\n",
       "                                          desc_words  \n",
       "0   Bln wr veern ell re bu l, wr, wll  lve n her re.  \n",
       "1  Wer pllun n he Une Se: n erl wrnng pruce fr he...  \n",
       "2  The fl rce he prgre f fur uc chlren ver ne er ...  \n",
       "3             An nrucn  he wrk f grphc r M.C. Echer.  \n",
       "4     \"Wh  r?\" The fl ffer e new nwer  he ge l quen.  "
      ]
     },
     "execution_count": 81,
     "metadata": {},
     "output_type": "execute_result"
    }
   ],
   "source": [
    "for i in range(len(dlist)):\n",
    "    dlist['description'][i] = clean_data(dlist['description'][i])"
   ]
  },
  {
   "cell_type": "code",
   "execution_count": 92,
   "metadata": {},
   "outputs": [],
   "source": [
    "# remove stopwords from the description column of the dataframe\n",
    "dlist['desc_words'] = 'None'\n",
    "\n",
    "def remove_df_stopwords(d):\n",
    "    for i in range(len(d)):\n",
    "        sentence = []\n",
    "        for word in d['description'][i].split():\n",
    "            if word not in stopwords.words('english'):\n",
    "                sentence.append(word)\n",
    "        d['desc_words'][i] = ' '.join(sentence)"
   ]
  },
  {
   "cell_type": "code",
   "execution_count": null,
   "metadata": {},
   "outputs": [],
   "source": [
    "remove_df_stopwords(dlist)"
   ]
  },
  {
   "cell_type": "code",
   "execution_count": 5,
   "metadata": {},
   "outputs": [],
   "source": [
    "dlist.to_csv('imdb_desc_words.csv', header = True, index = False)"
   ]
  },
  {
   "cell_type": "code",
   "execution_count": 113,
   "metadata": {},
   "outputs": [
    {
     "name": "stdout",
     "output_type": "stream",
     "text": [
      "<wordcloud.wordcloud.WordCloud object at 0x1455bcb70>\n"
     ]
    },
    {
     "data": {
      "text/plain": [
       "(-0.5, 399.5, 199.5, -0.5)"
      ]
     },
     "execution_count": 113,
     "metadata": {},
     "output_type": "execute_result"
    },
    {
     "data": {
      "image/png": "[encoded data removed]",
      "text/plain": [
       "<Figure size 432x288 with 1 Axes>"
      ]
     },
     "metadata": {
      "needs_background": "light"
     },
     "output_type": "display_data"
    }
   ],
   "source": [
    "#from PIL import Image\n",
    "#from wordcloud import WordCloud, STOPWORDS, ImageColorGenerator\n",
    "\n",
    "#stop_words = stopwords.words('english').append(['film', 'documentary', 'director'])\n",
    "#word_cloud = WordCloud(background_color='white', max_words=100, stopwords = stop_words,\n",
    "#                max_font_size=50,random_state=42).generate(str(dlist['desc_words']))\n",
    "\n",
    "#print(word_cloud)\n",
    "#plt.imshow(word_cloud)\n",
    "#plt.axis('off')"
   ]
  },
  {
   "cell_type": "code",
   "execution_count": null,
   "metadata": {},
   "outputs": [],
   "source": [
    "dlist.drop(dlist.loc[dlist['description'] == 'none'].index, inplace = True)\n",
    "if len(dlist.loc[dlist['desc_words'] == 'None'].index.tolist()) == 0:\n",
    "    print('no null value')"
   ]
  },
  {
   "cell_type": "code",
   "execution_count": 7,
   "metadata": {},
   "outputs": [],
   "source": [
    "from sklearn.feature_extraction.text import TfidfVectorizer\n",
    "\n",
    "tfidf = TfidfVectorizer(max_features=1000, lowercase=True, analyzer='word',stop_words= 'english', ngram_range=(1,1))\n",
    "\n",
    "def get_keywords(desc):\n",
    "    train_vect = tfidf.fit_transform(desc)\n",
    "    words = list(tfidf.vocabulary_.keys())[:5]\n",
    "    return words"
   ]
  },
  {
   "cell_type": "code",
   "execution_count": 8,
   "metadata": {},
   "outputs": [
    {
     "name": "stderr",
     "output_type": "stream",
     "text": [
      "/anaconda3/lib/python3.7/site-packages/ipykernel_launcher.py:4: SettingWithCopyWarning: \n",
      "A value is trying to be set on a copy of a slice from a DataFrame\n",
      "\n",
      "See the caveats in the documentation: http://pandas.pydata.org/pandas-docs/stable/indexing.html#indexing-view-versus-copy\n",
      "  after removing the cwd from sys.path.\n",
      "/anaconda3/lib/python3.7/site-packages/ipykernel_launcher.py:6: SettingWithCopyWarning: \n",
      "A value is trying to be set on a copy of a slice from a DataFrame\n",
      "\n",
      "See the caveats in the documentation: http://pandas.pydata.org/pandas-docs/stable/indexing.html#indexing-view-versus-copy\n",
      "  \n"
     ]
    }
   ],
   "source": [
    "dlist['keywords'] = 'None'\n",
    "for i in range(len(dlist)):\n",
    "    try:\n",
    "        dlist['keywords'][i] = get_keywords(dlist['description'][i].split())\n",
    "    except:\n",
    "        dlist['keywords'][i] = dlist['description'][i].split()[:5]"
   ]
  },
  {
   "cell_type": "code",
   "execution_count": 9,
   "metadata": {},
   "outputs": [
    {
     "data": {
      "text/html": [
       "<div>\n",
       "<style scoped>\n",
       "    .dataframe tbody tr th:only-of-type {\n",
       "        vertical-align: middle;\n",
       "    }\n",
       "\n",
       "    .dataframe tbody tr th {\n",
       "        vertical-align: top;\n",
       "    }\n",
       "\n",
       "    .dataframe thead th {\n",
       "        text-align: right;\n",
       "    }\n",
       "</style>\n",
       "<table border=\"1\" class=\"dataframe\">\n",
       "  <thead>\n",
       "    <tr style=\"text-align: right;\">\n",
       "      <th></th>\n",
       "      <th>tconst</th>\n",
       "      <th>primaryTitle</th>\n",
       "      <th>startYear</th>\n",
       "      <th>description</th>\n",
       "      <th>desc_words</th>\n",
       "      <th>keywords</th>\n",
       "    </tr>\n",
       "  </thead>\n",
       "  <tbody>\n",
       "    <tr>\n",
       "      <th>0</th>\n",
       "      <td>tt0065508</td>\n",
       "      <td>Bylem zolnierzem</td>\n",
       "      <td>1971</td>\n",
       "      <td>blind war veterans tell stories about loss war...</td>\n",
       "      <td>blind war veterans tell stories loss war live ...</td>\n",
       "      <td>[blind, war, veterans, tell, stories]</td>\n",
       "    </tr>\n",
       "    <tr>\n",
       "      <th>1</th>\n",
       "      <td>tt0065779</td>\n",
       "      <td>The Gifts</td>\n",
       "      <td>1970</td>\n",
       "      <td>water pollution in the united states an early ...</td>\n",
       "      <td>water pollution united states early warning pr...</td>\n",
       "      <td>[water, pollution, united, states, early]</td>\n",
       "    </tr>\n",
       "    <tr>\n",
       "      <th>2</th>\n",
       "      <td>tt0065998</td>\n",
       "      <td>A Long Way from Nowhere</td>\n",
       "      <td>1970</td>\n",
       "      <td>the film traces the progress of four autistic ...</td>\n",
       "      <td>film traces progress four autistic children on...</td>\n",
       "      <td>[film, traces, progress, autistic, children]</td>\n",
       "    </tr>\n",
       "    <tr>\n",
       "      <th>3</th>\n",
       "      <td>tt0066748</td>\n",
       "      <td>Adventures in Perception</td>\n",
       "      <td>1972</td>\n",
       "      <td>an introduction to the work of graphic artist ...</td>\n",
       "      <td>introduction work graphic artist mc escher</td>\n",
       "      <td>[introduction, work, graphic, artist, mc]</td>\n",
       "    </tr>\n",
       "    <tr>\n",
       "      <th>4</th>\n",
       "      <td>tt0066786</td>\n",
       "      <td>Art Is...</td>\n",
       "      <td>1972</td>\n",
       "      <td>what is art the film offers some new answers t...</td>\n",
       "      <td>art film offers new answers age old question</td>\n",
       "      <td>[art, film, offers, new, answers]</td>\n",
       "    </tr>\n",
       "  </tbody>\n",
       "</table>\n",
       "</div>"
      ],
      "text/plain": [
       "      tconst              primaryTitle  startYear  \\\n",
       "0  tt0065508          Bylem zolnierzem       1971   \n",
       "1  tt0065779                 The Gifts       1970   \n",
       "2  tt0065998   A Long Way from Nowhere       1970   \n",
       "3  tt0066748  Adventures in Perception       1972   \n",
       "4  tt0066786                 Art Is...       1972   \n",
       "\n",
       "                                         description  \\\n",
       "0  blind war veterans tell stories about loss war...   \n",
       "1  water pollution in the united states an early ...   \n",
       "2  the film traces the progress of four autistic ...   \n",
       "3  an introduction to the work of graphic artist ...   \n",
       "4  what is art the film offers some new answers t...   \n",
       "\n",
       "                                          desc_words  \\\n",
       "0  blind war veterans tell stories loss war live ...   \n",
       "1  water pollution united states early warning pr...   \n",
       "2  film traces progress four autistic children on...   \n",
       "3         introduction work graphic artist mc escher   \n",
       "4       art film offers new answers age old question   \n",
       "\n",
       "                                       keywords  \n",
       "0         [blind, war, veterans, tell, stories]  \n",
       "1     [water, pollution, united, states, early]  \n",
       "2  [film, traces, progress, autistic, children]  \n",
       "3     [introduction, work, graphic, artist, mc]  \n",
       "4             [art, film, offers, new, answers]  "
      ]
     },
     "execution_count": 9,
     "metadata": {},
     "output_type": "execute_result"
    }
   ],
   "source": [
    "dlist.head()"
   ]
  },
  {
   "cell_type": "code",
   "execution_count": 16,
   "metadata": {},
   "outputs": [],
   "source": [
    "dlist['w2v'] = [[]] * dlist.shape[0]"
   ]
  },
  {
   "cell_type": "code",
   "execution_count": 168,
   "metadata": {},
   "outputs": [],
   "source": [
    "model = KeyedVectors.load_word2vec_format('GoogleNews-vectors-negative300.bin',\n",
    "                   binary=True, limit = 500000)"
   ]
  },
  {
   "cell_type": "code",
   "execution_count": 169,
   "metadata": {},
   "outputs": [],
   "source": [
    "def document_vector(word2vec_model, doc):\n",
    "    # remove out-of-vocabulary words\n",
    "    doc = [word for word in doc if word in word2vec_model.vocab]\n",
    "    return np.mean(word2vec_model[doc], axis=0)"
   ]
  },
  {
   "cell_type": "code",
   "execution_count": 23,
   "metadata": {},
   "outputs": [
    {
     "name": "stderr",
     "output_type": "stream",
     "text": [
      "/anaconda3/lib/python3.7/site-packages/ipykernel_launcher.py:2: SettingWithCopyWarning: \n",
      "A value is trying to be set on a copy of a slice from a DataFrame\n",
      "\n",
      "See the caveats in the documentation: http://pandas.pydata.org/pandas-docs/stable/indexing.html#indexing-view-versus-copy\n",
      "  \n"
     ]
    }
   ],
   "source": [
    "for idx, rows in dlist.iterrows():\n",
    "    dlist['w2v'][idx] = document_vector(model, rows['desc_words'])"
   ]
  },
  {
   "cell_type": "code",
   "execution_count": 24,
   "metadata": {},
   "outputs": [
    {
     "data": {
      "text/html": [
       "<div>\n",
       "<style scoped>\n",
       "    .dataframe tbody tr th:only-of-type {\n",
       "        vertical-align: middle;\n",
       "    }\n",
       "\n",
       "    .dataframe tbody tr th {\n",
       "        vertical-align: top;\n",
       "    }\n",
       "\n",
       "    .dataframe thead th {\n",
       "        text-align: right;\n",
       "    }\n",
       "</style>\n",
       "<table border=\"1\" class=\"dataframe\">\n",
       "  <thead>\n",
       "    <tr style=\"text-align: right;\">\n",
       "      <th></th>\n",
       "      <th>tconst</th>\n",
       "      <th>primaryTitle</th>\n",
       "      <th>startYear</th>\n",
       "      <th>description</th>\n",
       "      <th>desc_words</th>\n",
       "      <th>keywords</th>\n",
       "      <th>w2v</th>\n",
       "    </tr>\n",
       "  </thead>\n",
       "  <tbody>\n",
       "    <tr>\n",
       "      <th>0</th>\n",
       "      <td>tt0065508</td>\n",
       "      <td>Bylem zolnierzem</td>\n",
       "      <td>1971</td>\n",
       "      <td>blind war veterans tell stories about loss war...</td>\n",
       "      <td>blind war veterans tell stories loss war live ...</td>\n",
       "      <td>[blind, war, veterans, tell, stories]</td>\n",
       "      <td>[-0.16313477, 0.14085694, -0.01907959, 0.12058...</td>\n",
       "    </tr>\n",
       "    <tr>\n",
       "      <th>1</th>\n",
       "      <td>tt0065779</td>\n",
       "      <td>The Gifts</td>\n",
       "      <td>1970</td>\n",
       "      <td>water pollution in the united states an early ...</td>\n",
       "      <td>water pollution united states early warning pr...</td>\n",
       "      <td>[water, pollution, united, states, early]</td>\n",
       "      <td>[-0.16641583, 0.1179628, -0.011660805, 0.13811...</td>\n",
       "    </tr>\n",
       "    <tr>\n",
       "      <th>2</th>\n",
       "      <td>tt0065998</td>\n",
       "      <td>A Long Way from Nowhere</td>\n",
       "      <td>1970</td>\n",
       "      <td>the film traces the progress of four autistic ...</td>\n",
       "      <td>film traces progress four autistic children on...</td>\n",
       "      <td>[film, traces, progress, autistic, children]</td>\n",
       "      <td>[-0.18571264, 0.11501144, 0.016085012, 0.13528...</td>\n",
       "    </tr>\n",
       "    <tr>\n",
       "      <th>3</th>\n",
       "      <td>tt0066748</td>\n",
       "      <td>Adventures in Perception</td>\n",
       "      <td>1972</td>\n",
       "      <td>an introduction to the work of graphic artist ...</td>\n",
       "      <td>introduction work graphic artist mc escher</td>\n",
       "      <td>[introduction, work, graphic, artist, mc]</td>\n",
       "      <td>[-0.21546805, 0.10590994, -0.02231794, 0.15802...</td>\n",
       "    </tr>\n",
       "    <tr>\n",
       "      <th>4</th>\n",
       "      <td>tt0066786</td>\n",
       "      <td>Art Is...</td>\n",
       "      <td>1972</td>\n",
       "      <td>what is art the film offers some new answers t...</td>\n",
       "      <td>art film offers new answers age old question</td>\n",
       "      <td>[art, film, offers, new, answers]</td>\n",
       "      <td>[-0.18348424, 0.12162332, -0.0062794406, 0.130...</td>\n",
       "    </tr>\n",
       "  </tbody>\n",
       "</table>\n",
       "</div>"
      ],
      "text/plain": [
       "      tconst              primaryTitle  startYear  \\\n",
       "0  tt0065508          Bylem zolnierzem       1971   \n",
       "1  tt0065779                 The Gifts       1970   \n",
       "2  tt0065998   A Long Way from Nowhere       1970   \n",
       "3  tt0066748  Adventures in Perception       1972   \n",
       "4  tt0066786                 Art Is...       1972   \n",
       "\n",
       "                                         description  \\\n",
       "0  blind war veterans tell stories about loss war...   \n",
       "1  water pollution in the united states an early ...   \n",
       "2  the film traces the progress of four autistic ...   \n",
       "3  an introduction to the work of graphic artist ...   \n",
       "4  what is art the film offers some new answers t...   \n",
       "\n",
       "                                          desc_words  \\\n",
       "0  blind war veterans tell stories loss war live ...   \n",
       "1  water pollution united states early warning pr...   \n",
       "2  film traces progress four autistic children on...   \n",
       "3         introduction work graphic artist mc escher   \n",
       "4       art film offers new answers age old question   \n",
       "\n",
       "                                       keywords  \\\n",
       "0         [blind, war, veterans, tell, stories]   \n",
       "1     [water, pollution, united, states, early]   \n",
       "2  [film, traces, progress, autistic, children]   \n",
       "3     [introduction, work, graphic, artist, mc]   \n",
       "4             [art, film, offers, new, answers]   \n",
       "\n",
       "                                                 w2v  \n",
       "0  [-0.16313477, 0.14085694, -0.01907959, 0.12058...  \n",
       "1  [-0.16641583, 0.1179628, -0.011660805, 0.13811...  \n",
       "2  [-0.18571264, 0.11501144, 0.016085012, 0.13528...  \n",
       "3  [-0.21546805, 0.10590994, -0.02231794, 0.15802...  \n",
       "4  [-0.18348424, 0.12162332, -0.0062794406, 0.130...  "
      ]
     },
     "execution_count": 24,
     "metadata": {},
     "output_type": "execute_result"
    }
   ],
   "source": [
    "dlist.head()"
   ]
  },
  {
   "cell_type": "code",
   "execution_count": null,
   "metadata": {},
   "outputs": [],
   "source": [
    "dlist.to_csv('imdb_w2v.csv', header = True, index = False)"
   ]
  },
  {
   "cell_type": "code",
   "execution_count": null,
   "metadata": {},
   "outputs": [],
   "source": []
  }
 ],
 "metadata": {
  "kernelspec": {
   "display_name": "Python 3",
   "language": "python",
   "name": "python3"
  },
  "language_info": {
   "codemirror_mode": {
    "name": "ipython",
    "version": 3
   },
   "file_extension": ".py",
   "mimetype": "text/x-python",
   "name": "python",
   "nbconvert_exporter": "python",
   "pygments_lexer": "ipython3",
   "version": "3.7.1"
  }
 },
 "nbformat": 4,
 "nbformat_minor": 2
}
